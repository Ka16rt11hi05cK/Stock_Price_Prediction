{
  "cells": [
    {
      "cell_type": "markdown",
      "metadata": {
        "id": "view-in-github",
        "colab_type": "text"
      },
      "source": [
        "<a href=\"https://colab.research.google.com/github/Ka16rt11hi05cK/Stock_Price_Prediction/blob/main/Stock_Price_Prediction.ipynb\" target=\"_parent\"><img src=\"https://colab.research.google.com/assets/colab-badge.svg\" alt=\"Open In Colab\"/></a>"
      ]
    },
    {
      "cell_type": "code",
      "source": [
        "!pip install yfinance\n",
        "import yfinance as yf\n",
        "import pandas as pd\n",
        "from sklearn.ensemble import RandomForestClassifier\n",
        "from datetime import date, timedelta\n",
        "\n",
        "def predict_tomorrows_stock_movement(ticker_symbol='AAPL', start_date='2020-01-01'):\n",
        "    try:\n",
        "        end_date = date.today()\n",
        "\n",
        "        stock_data = yf.download(ticker_symbol, start=start_date, end=end_date)\n",
        "\n",
        "        if stock_data.empty:\n",
        "            print(f\"No data found for symbol {ticker_symbol}. Please check the ticker symbol and date range.\")\n",
        "            return\n",
        "\n",
        "        stock_data['ma50'] = stock_data['Close'].rolling(window=50).mean()\n",
        "        stock_data['ma200'] = stock_data['Close'].rolling(window=200).mean()\n",
        "        stock_data['target'] = (stock_data['Close'].shift(-1) > stock_data['Close']).astype(int)\n",
        "\n",
        "        processed_data = stock_data.dropna()\n",
        "\n",
        "        features = ['Open', 'High', 'Low', 'Close', 'Volume', 'ma50', 'ma200']\n",
        "        X_train = processed_data[features]\n",
        "        y_train = processed_data['target']\n",
        "\n",
        "        model = RandomForestClassifier(n_estimators=100, random_state=42)\n",
        "        model.fit(X_train, y_train)\n",
        "\n",
        "        latest_data = stock_data[features].iloc[[-1]]\n",
        "\n",
        "        if latest_data.isnull().values.any():\n",
        "            print(f\"Could not make a prediction for {ticker_symbol} as the latest data contains NaN values (likely due to insufficient history for moving averages).\")\n",
        "            print(\"Try an earlier start_date.\")\n",
        "            return\n",
        "\n",
        "        prediction = model.predict(latest_data)\n",
        "        prediction_proba = model.predict_proba(latest_data)\n",
        "\n",
        "        tomorrow = end_date + timedelta(days=1)\n",
        "        print(f\"--- Prediction for {ticker_symbol} on {tomorrow.strftime('%Y-%m-%d')} ---\")\n",
        "\n",
        "        if prediction[0] == 1:\n",
        "            confidence = prediction_proba[0][1]\n",
        "            print(f\"Prediction: UP \\nConfidence: {confidence:.2%}\")\n",
        "        else:\n",
        "            confidence = prediction_proba[0][0]\n",
        "            print(f\"Prediction: DOWN \\nConfidence: {confidence:.2%}\")\n",
        "\n",
        "    except Exception as e:\n",
        "        print(f\"An error occurred: {e}\")\n",
        "\n",
        "if __name__ == '__main__':\n",
        "    predict_tomorrows_stock_movement(ticker_symbol='NIFTY_BANK', start_date='2019-01-01')\n",
        "\n"
      ],
      "metadata": {
        "colab": {
          "base_uri": "https://localhost:8080/"
        },
        "id": "zTtfCWHRgBXd",
        "outputId": "192ebb40-c83f-4e2e-a5c2-2eebda683bd5"
      },
      "id": "zTtfCWHRgBXd",
      "execution_count": null,
      "outputs": [
        {
          "output_type": "stream",
          "name": "stdout",
          "text": [
            "Requirement already satisfied: yfinance in /usr/local/lib/python3.11/dist-packages (0.2.62)\n",
            "Requirement already satisfied: pandas>=1.3.0 in /usr/local/lib/python3.11/dist-packages (from yfinance) (2.2.2)\n",
            "Requirement already satisfied: numpy>=1.16.5 in /usr/local/lib/python3.11/dist-packages (from yfinance) (2.0.2)\n",
            "Requirement already satisfied: requests>=2.31 in /usr/local/lib/python3.11/dist-packages (from yfinance) (2.32.3)\n",
            "Requirement already satisfied: multitasking>=0.0.7 in /usr/local/lib/python3.11/dist-packages (from yfinance) (0.0.11)\n",
            "Requirement already satisfied: platformdirs>=2.0.0 in /usr/local/lib/python3.11/dist-packages (from yfinance) (4.3.8)\n",
            "Requirement already satisfied: pytz>=2022.5 in /usr/local/lib/python3.11/dist-packages (from yfinance) (2025.2)\n",
            "Requirement already satisfied: frozendict>=2.3.4 in /usr/local/lib/python3.11/dist-packages (from yfinance) (2.4.6)\n",
            "Requirement already satisfied: peewee>=3.16.2 in /usr/local/lib/python3.11/dist-packages (from yfinance) (3.18.1)\n",
            "Requirement already satisfied: beautifulsoup4>=4.11.1 in /usr/local/lib/python3.11/dist-packages (from yfinance) (4.13.4)\n",
            "Requirement already satisfied: curl_cffi>=0.7 in /usr/local/lib/python3.11/dist-packages (from yfinance) (0.11.3)\n",
            "Requirement already satisfied: protobuf>=3.19.0 in /usr/local/lib/python3.11/dist-packages (from yfinance) (5.29.5)\n",
            "Requirement already satisfied: websockets>=13.0 in /usr/local/lib/python3.11/dist-packages (from yfinance) (15.0.1)\n",
            "Requirement already satisfied: soupsieve>1.2 in /usr/local/lib/python3.11/dist-packages (from beautifulsoup4>=4.11.1->yfinance) (2.7)\n",
            "Requirement already satisfied: typing-extensions>=4.0.0 in /usr/local/lib/python3.11/dist-packages (from beautifulsoup4>=4.11.1->yfinance) (4.14.0)\n",
            "Requirement already satisfied: cffi>=1.12.0 in /usr/local/lib/python3.11/dist-packages (from curl_cffi>=0.7->yfinance) (1.17.1)\n",
            "Requirement already satisfied: certifi>=2024.2.2 in /usr/local/lib/python3.11/dist-packages (from curl_cffi>=0.7->yfinance) (2025.4.26)\n",
            "Requirement already satisfied: python-dateutil>=2.8.2 in /usr/local/lib/python3.11/dist-packages (from pandas>=1.3.0->yfinance) (2.9.0.post0)\n",
            "Requirement already satisfied: tzdata>=2022.7 in /usr/local/lib/python3.11/dist-packages (from pandas>=1.3.0->yfinance) (2025.2)\n",
            "Requirement already satisfied: charset-normalizer<4,>=2 in /usr/local/lib/python3.11/dist-packages (from requests>=2.31->yfinance) (3.4.2)\n",
            "Requirement already satisfied: idna<4,>=2.5 in /usr/local/lib/python3.11/dist-packages (from requests>=2.31->yfinance) (3.10)\n",
            "Requirement already satisfied: urllib3<3,>=1.21.1 in /usr/local/lib/python3.11/dist-packages (from requests>=2.31->yfinance) (2.4.0)\n",
            "Requirement already satisfied: pycparser in /usr/local/lib/python3.11/dist-packages (from cffi>=1.12.0->curl_cffi>=0.7->yfinance) (2.22)\n",
            "Requirement already satisfied: six>=1.5 in /usr/local/lib/python3.11/dist-packages (from python-dateutil>=2.8.2->pandas>=1.3.0->yfinance) (1.17.0)\n"
          ]
        },
        {
          "output_type": "stream",
          "name": "stderr",
          "text": [
            "<ipython-input-8-3550102420>:11: FutureWarning: YF.download() has changed argument auto_adjust default to True\n",
            "  stock_data = yf.download(ticker_symbol, start=start_date, end=end_date)\n",
            "ERROR:yfinance:HTTP Error 401: \n",
            "[*********************100%***********************]  1 of 1 completed\n",
            "ERROR:yfinance:\n",
            "1 Failed download:\n",
            "ERROR:yfinance:['NIFTY_BANK']: YFTzMissingError('possibly delisted; no timezone found')\n"
          ]
        },
        {
          "output_type": "stream",
          "name": "stdout",
          "text": [
            "No data found for symbol NIFTY_BANK. Please check the ticker symbol and date range.\n"
          ]
        }
      ]
    }
  ],
  "metadata": {
    "colab": {
      "provenance": [],
      "include_colab_link": true
    },
    "language_info": {
      "name": "python"
    },
    "kernelspec": {
      "name": "python3",
      "display_name": "Python 3"
    }
  },
  "nbformat": 4,
  "nbformat_minor": 5
}